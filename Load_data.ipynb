{
 "cells": [
  {
   "cell_type": "code",
   "execution_count": 1,
   "id": "5b8a31dc-56da-4330-84d9-56a68342f20c",
   "metadata": {},
   "outputs": [],
   "source": [
    "# Import libraries\n",
    "import os\n",
    "import requests\n",
    "import boto3\n",
    "from botocore.exceptions import NoCredentialsError\n",
    "import pyarrow.parquet as pq\n",
    "import pandas as pd\n",
    "from tqdm import tqdm"
   ]
  },
  {
   "cell_type": "code",
   "execution_count": 2,
   "id": "9c0b0693-20d7-48b7-952c-45be52a28eec",
   "metadata": {},
   "outputs": [],
   "source": [
    "# Fonction de téléchargement des données depuis S3 ou une URL avec barre de progression\n",
    "def download_data(local_path, url=None, s3_path=None, bucket=None, endpoint=None):\n",
    "    \"\"\"\n",
    "    Télécharge un fichier depuis S3 ou une URL et le sauvegarde localement.\n",
    "    \"\"\"\n",
    "    # Créer le dossier si nécessaire\n",
    "    dir_path = os.path.dirname(local_path)\n",
    "    if not os.path.exists(dir_path):\n",
    "        os.makedirs(dir_path)\n",
    "    \n",
    "    # Vérifier si le fichier existe déjà\n",
    "    if os.path.exists(local_path):\n",
    "        print(f\"Les données sont déjà téléchargées : {local_path}\")\n",
    "        return\n",
    "\n",
    "    # Télécharger depuis S3\n",
    "    if s3_path and bucket and endpoint:\n",
    "        print(\"Téléchargement depuis le bucket S3...\")\n",
    "        try:\n",
    "            s3 = boto3.client('s3', endpoint_url=endpoint)\n",
    "            s3.download_file(bucket, s3_path, local_path)\n",
    "            print(f\"Téléchargement effectué avec succès depuis S3 : {local_path}\")\n",
    "        except NoCredentialsError as e:\n",
    "            print(f\"Erreur d'authentification S3 : {e}\")\n",
    "        except Exception as e:\n",
    "            print(f\"Erreur lors du téléchargement depuis S3 : {e}\")\n",
    "            return\n",
    "\n",
    "    # Télécharger depuis une URL\n",
    "    elif url:\n",
    "        print(\"Téléchargement depuis l'URL...\")\n",
    "        try:\n",
    "            response = requests.get(url, stream=True)\n",
    "            response.raise_for_status()\n",
    "            \n",
    "            # Barre de progression\n",
    "            total_size = int(response.headers.get('content-length', 0))\n",
    "            with open(local_path, 'wb') as f, tqdm(\n",
    "                desc=f\"Téléchargement {os.path.basename(local_path)}\",\n",
    "                total=total_size,\n",
    "                unit='B',\n",
    "                unit_scale=True,\n",
    "                unit_divisor=1024,\n",
    "            ) as bar:\n",
    "                for data in response.iter_content(chunk_size=1024):\n",
    "                    f.write(data)\n",
    "                    bar.update(len(data))\n",
    "            print(f\"Téléchargement effectué avec succès : {local_path}\")\n",
    "        except requests.RequestException as e:\n",
    "            print(f\"Erreur lors du téléchargement depuis l'URL : {e}\")\n",
    "            return\n",
    "\n",
    "    else:\n",
    "        print(\"Ni URL, ni chemin S3 spécifié. Impossible de télécharger les données.\")\n",
    "        return\n",
    "\n",
    "# Fonction pour lire les fichiers Parquet\n",
    "def read_parquet_data(local_path):\n",
    "    if os.path.exists(local_path):\n",
    "        try:\n",
    "            data = pq.read_table(local_path).to_pandas()\n",
    "            print(f\"Données Parquet chargées avec succès depuis : {local_path}\")\n",
    "            return data\n",
    "        except Exception as e:\n",
    "            print(f\"Erreur lors de la lecture du fichier Parquet : {e}\")\n",
    "    else:\n",
    "        print(f\"Le fichier n'existe pas : {local_path}\")\n",
    "    return None\n",
    "\n",
    "# Fonction pour lire les fichiers CSV\n",
    "def read_csv_data(local_path):\n",
    "    if os.path.exists(local_path):\n",
    "        try:\n",
    "            data = pd.read_csv(local_path, sep=';')\n",
    "            print(f\"Données CSV chargées avec succès depuis : {local_path}\")\n",
    "            return data\n",
    "        except Exception as e:\n",
    "            print(f\"Erreur lors de la lecture du fichier CSV : {e}\")\n",
    "    else:\n",
    "        print(f\"Le fichier n'existe pas : {local_path}\")\n",
    "    return None"
   ]
  },
  {
   "cell_type": "code",
   "execution_count": 5,
   "id": "00fa0b3c-04de-482e-ba8a-38436e270fff",
   "metadata": {},
   "outputs": [
    {
     "name": "stdout",
     "output_type": "stream",
     "text": [
      "Nouveau répertoire courant : /home/onyxia/work/Hackathon_Accessibilite\n"
     ]
    }
   ],
   "source": [
    "# Définir le répertoire courant\n",
    "os.chdir('/home/onyxia/work/Hackathon_Accessibilite')\n",
    "\n",
    "# Vérification\n",
    "print(\"Nouveau répertoire courant :\", os.getcwd())"
   ]
  },
  {
   "cell_type": "code",
   "execution_count": 8,
   "id": "de8341b3-0edc-47ea-9196-bd5f76585111",
   "metadata": {},
   "outputs": [
    {
     "name": "stdout",
     "output_type": "stream",
     "text": [
      "Téléchargement depuis l'URL...\n"
     ]
    },
    {
     "name": "stderr",
     "output_type": "stream",
     "text": [
      "Téléchargement acces_libre.csv: 191MB [00:04, 48.7MB/s] "
     ]
    },
    {
     "name": "stdout",
     "output_type": "stream",
     "text": [
      "Téléchargement effectué avec succès : data/acces_libre.csv\n"
     ]
    },
    {
     "name": "stderr",
     "output_type": "stream",
     "text": [
      "\n"
     ]
    }
   ],
   "source": [
    "# Téléchargement des fichiers en local\n",
    "\n",
    "# Depuis une URL\n",
    "download_data(\n",
    "    local_path=\"data/acces_libre.csv\",\n",
    "    url=\"https://www.data.gouv.fr/fr/datasets/r/93ae96a7-1db7-4cb4-a9f1-6d778370b640\"\n",
    ")"
   ]
  },
  {
   "cell_type": "code",
   "execution_count": 10,
   "id": "4fea8bc0-8bab-42d4-8923-9fbb78d6ae11",
   "metadata": {},
   "outputs": [
    {
     "name": "stdout",
     "output_type": "stream",
     "text": [
      "Erreur lors de la lecture du fichier CSV : Error tokenizing data. C error: Expected 1 fields in line 17090, saw 2\n",
      "\n"
     ]
    }
   ],
   "source": [
    "# Lecture des fichiers CSV\n",
    "data_acces_libre = read_csv_data(\"data/acces_libre.csv\")"
   ]
  },
  {
   "cell_type": "code",
   "execution_count": 11,
   "id": "d9a268f1-284c-46c7-aceb-09e9641a6e4b",
   "metadata": {},
   "outputs": [
    {
     "ename": "AttributeError",
     "evalue": "'NoneType' object has no attribute 'head'",
     "output_type": "error",
     "traceback": [
      "\u001b[0;31m---------------------------------------------------------------------------\u001b[0m",
      "\u001b[0;31mAttributeError\u001b[0m                            Traceback (most recent call last)",
      "Cell \u001b[0;32mIn[11], line 2\u001b[0m\n\u001b[1;32m      1\u001b[0m \u001b[38;5;66;03m# Afficher un aperçu des données\u001b[39;00m\n\u001b[0;32m----> 2\u001b[0m \u001b[38;5;28mprint\u001b[39m(\u001b[43mdata_acces_libre\u001b[49m\u001b[38;5;241;43m.\u001b[39;49m\u001b[43mhead\u001b[49m())\n",
      "\u001b[0;31mAttributeError\u001b[0m: 'NoneType' object has no attribute 'head'"
     ]
    }
   ],
   "source": [
    "# Afficher un aperçu des données\n",
    "print(data_acces_libre.head())"
   ]
  },
  {
   "cell_type": "code",
   "execution_count": null,
   "id": "9c7cda06-9535-4d80-9786-a49226276488",
   "metadata": {},
   "outputs": [],
   "source": []
  }
 ],
 "metadata": {
  "kernelspec": {
   "display_name": "Python 3 (ipykernel)",
   "language": "python",
   "name": "python3"
  },
  "language_info": {
   "codemirror_mode": {
    "name": "ipython",
    "version": 3
   },
   "file_extension": ".py",
   "mimetype": "text/x-python",
   "name": "python",
   "nbconvert_exporter": "python",
   "pygments_lexer": "ipython3",
   "version": "3.12.7"
  }
 },
 "nbformat": 4,
 "nbformat_minor": 5
}
