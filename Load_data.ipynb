{
 "cells": [
  {
   "cell_type": "code",
   "execution_count": 35,
   "id": "5b8a31dc-56da-4330-84d9-56a68342f20c",
   "metadata": {},
   "outputs": [],
   "source": [
    "# Import libraries\n",
    "import os\n",
    "import requests\n",
    "import boto3\n",
    "from botocore.exceptions import NoCredentialsError\n",
    "import pyarrow.parquet as pq\n",
    "import pandas as pd\n",
    "from tqdm import tqdm\n",
    "import geopandas as gpd\n",
    "from shapely.geometry import Point\n",
    "import json"
   ]
  },
  {
   "cell_type": "code",
   "execution_count": 14,
   "id": "9c0b0693-20d7-48b7-952c-45be52a28eec",
   "metadata": {},
   "outputs": [],
   "source": [
    "# Fonction de téléchargement des données depuis S3 ou une URL avec barre de progression\n",
    "def download_data(local_path, url=None, s3_path=None, bucket=None, endpoint=None):\n",
    "    \"\"\"\n",
    "    Télécharge un fichier depuis S3 ou une URL et le sauvegarde localement.\n",
    "    \"\"\"\n",
    "    # Créer le dossier si nécessaire\n",
    "    dir_path = os.path.dirname(local_path)\n",
    "    if not os.path.exists(dir_path):\n",
    "        os.makedirs(dir_path)\n",
    "    \n",
    "    # Vérifier si le fichier existe déjà\n",
    "    if os.path.exists(local_path):\n",
    "        print(f\"Les données sont déjà téléchargées : {local_path}\")\n",
    "        return\n",
    "\n",
    "    # Télécharger depuis S3\n",
    "    if s3_path and bucket and endpoint:\n",
    "        print(\"Téléchargement depuis le bucket S3...\")\n",
    "        try:\n",
    "            s3 = boto3.client('s3', endpoint_url=endpoint)\n",
    "            s3.download_file(bucket, s3_path, local_path)\n",
    "            print(f\"Téléchargement effectué avec succès depuis S3 : {local_path}\")\n",
    "        except NoCredentialsError as e:\n",
    "            print(f\"Erreur d'authentification S3 : {e}\")\n",
    "        except Exception as e:\n",
    "            print(f\"Erreur lors du téléchargement depuis S3 : {e}\")\n",
    "            return\n",
    "\n",
    "    # Télécharger depuis une URL\n",
    "    elif url:\n",
    "        print(\"Téléchargement depuis l'URL...\")\n",
    "        try:\n",
    "            response = requests.get(url, stream=True)\n",
    "            response.raise_for_status()\n",
    "            \n",
    "            # Barre de progression\n",
    "            total_size = int(response.headers.get('content-length', 0))\n",
    "            with open(local_path, 'wb') as f, tqdm(\n",
    "                desc=f\"Téléchargement {os.path.basename(local_path)}\",\n",
    "                total=total_size,\n",
    "                unit='B',\n",
    "                unit_scale=True,\n",
    "                unit_divisor=1024,\n",
    "            ) as bar:\n",
    "                for data in response.iter_content(chunk_size=1024):\n",
    "                    f.write(data)\n",
    "                    bar.update(len(data))\n",
    "            print(f\"Téléchargement effectué avec succès : {local_path}\")\n",
    "        except requests.RequestException as e:\n",
    "            print(f\"Erreur lors du téléchargement depuis l'URL : {e}\")\n",
    "            return\n",
    "\n",
    "    else:\n",
    "        print(\"Ni URL, ni chemin S3 spécifié. Impossible de télécharger les données.\")\n",
    "        return\n",
    "\n",
    "# Fonction pour lire les fichiers Parquet\n",
    "def read_parquet_data(local_path):\n",
    "    if os.path.exists(local_path):\n",
    "        try:\n",
    "            data = pq.read_table(local_path).to_pandas()\n",
    "            print(f\"Données Parquet chargées avec succès depuis : {local_path}\")\n",
    "            return data\n",
    "        except Exception as e:\n",
    "            print(f\"Erreur lors de la lecture du fichier Parquet : {e}\")\n",
    "    else:\n",
    "        print(f\"Le fichier n'existe pas : {local_path}\")\n",
    "    return None\n",
    "\n",
    "# Fonction pour lire les fichiers CSV\n",
    "def read_csv_data(local_path):\n",
    "    if os.path.exists(local_path):\n",
    "        try:\n",
    "            data = pd.read_csv(local_path, sep=';')\n",
    "            print(f\"Données CSV chargées avec succès depuis : {local_path}\")\n",
    "            return data\n",
    "        except Exception as e:\n",
    "            print(f\"Erreur lors de la lecture du fichier CSV : {e}\")\n",
    "    else:\n",
    "        print(f\"Le fichier n'existe pas : {local_path}\")\n",
    "    return None"
   ]
  },
  {
   "cell_type": "code",
   "execution_count": 15,
   "id": "ad43a6ca-84a6-4fb9-9eb6-d2cb64787ca2",
   "metadata": {},
   "outputs": [],
   "source": [
    "# Fonction de téléchargement des données depuis S3 ou une URL avec barre de progression\n",
    "def download_data(local_path, url=None, s3_path=None, bucket=None, endpoint=None):\n",
    "    \"\"\"\n",
    "    Télécharge un fichier depuis S3 ou une URL et le sauvegarde localement.\n",
    "    \"\"\"\n",
    "    # Créer le dossier si nécessaire\n",
    "    dir_path = os.path.dirname(local_path)\n",
    "    if not os.path.exists(dir_path):\n",
    "        os.makedirs(dir_path)\n",
    "    \n",
    "    # Vérifier si le fichier existe déjà\n",
    "    if os.path.exists(local_path):\n",
    "        print(f\"Les données sont déjà téléchargées : {local_path}\")\n",
    "        return\n",
    "\n",
    "    # Télécharger depuis S3\n",
    "    if s3_path and bucket and endpoint:\n",
    "        print(\"Téléchargement depuis le bucket S3...\")\n",
    "        try:\n",
    "            s3 = boto3.client('s3', endpoint_url=endpoint)\n",
    "            s3.download_file(bucket, s3_path, local_path)\n",
    "            print(f\"Téléchargement effectué avec succès depuis S3 : {local_path}\")\n",
    "        except NoCredentialsError as e:\n",
    "            print(f\"Erreur d'authentification S3 : {e}\")\n",
    "        except Exception as e:\n",
    "            print(f\"Erreur lors du téléchargement depuis S3 : {e}\")\n",
    "            return\n",
    "\n",
    "    # Télécharger depuis une URL\n",
    "    elif url:\n",
    "        print(\"Téléchargement depuis l'URL...\")\n",
    "        try:\n",
    "            response = requests.get(url, stream=True)\n",
    "            response.raise_for_status()\n",
    "            \n",
    "            # Barre de progression\n",
    "            total_size = int(response.headers.get('content-length', 0))\n",
    "            with open(local_path, 'wb') as f, tqdm(\n",
    "                desc=f\"Téléchargement {os.path.basename(local_path)}\",\n",
    "                total=total_size,\n",
    "                unit='B',\n",
    "                unit_scale=True,\n",
    "                unit_divisor=1024,\n",
    "            ) as bar:\n",
    "                for data in response.iter_content(chunk_size=1024):\n",
    "                    f.write(data)\n",
    "                    bar.update(len(data))\n",
    "            print(f\"Téléchargement effectué avec succès : {local_path}\")\n",
    "        except requests.RequestException as e:\n",
    "            print(f\"Erreur lors du téléchargement depuis l'URL : {e}\")\n",
    "            return\n",
    "\n",
    "    else:\n",
    "        print(\"Ni URL, ni chemin S3 spécifié. Impossible de télécharger les données.\")\n",
    "        return\n",
    "\n",
    "# Fonction pour lire les fichiers Parquet\n",
    "def read_parquet_data(local_path):\n",
    "    if os.path.exists(local_path):\n",
    "        try:\n",
    "            data = pq.read_table(local_path).to_pandas()\n",
    "            print(f\"Données Parquet chargées avec succès depuis : {local_path}\")\n",
    "            return data\n",
    "        except Exception as e:\n",
    "            print(f\"Erreur lors de la lecture du fichier Parquet : {e}\")\n",
    "    else:\n",
    "        print(f\"Le fichier n'existe pas : {local_path}\")\n",
    "    return None\n",
    "\n",
    "# Fonction pour lire les fichiers CSV\n",
    "def read_csv_data(local_path):\n",
    "    if os.path.exists(local_path):\n",
    "        try:\n",
    "            data = pd.read_csv(local_path, sep=';')\n",
    "            print(f\"Données CSV chargées avec succès depuis : {local_path}\")\n",
    "            return data\n",
    "        except Exception as e:\n",
    "            print(f\"Erreur lors de la lecture du fichier CSV : {e}\")\n",
    "    else:\n",
    "        print(f\"Le fichier n'existe pas : {local_path}\")\n",
    "    return None"
   ]
  },
  {
   "cell_type": "code",
   "execution_count": 16,
   "id": "00fa0b3c-04de-482e-ba8a-38436e270fff",
   "metadata": {},
   "outputs": [
    {
     "name": "stdout",
     "output_type": "stream",
     "text": [
      "Nouveau répertoire courant : /home/onyxia/work/Hackathon_Accessibilite\n"
     ]
    }
   ],
   "source": [
    "# Définir le répertoire courant\n",
    "os.chdir('/home/onyxia/work/Hackathon_Accessibilite')\n",
    "\n",
    "# Vérification\n",
    "print(\"Nouveau répertoire courant :\", os.getcwd())"
   ]
  },
  {
   "cell_type": "code",
   "execution_count": 17,
   "id": "de8341b3-0edc-47ea-9196-bd5f76585111",
   "metadata": {},
   "outputs": [
    {
     "name": "stdout",
     "output_type": "stream",
     "text": [
      "Les données sont déjà téléchargées : data/acces_libre.csv\n",
      "Les données sont déjà téléchargées : data/classement_hotels.csv\n",
      "Les données sont déjà téléchargées : data/classement_residences_camping.csv\n"
     ]
    }
   ],
   "source": [
    "# Téléchargement des fichiers en local\n",
    "\n",
    "# Depuis une URL\n",
    "download_data(\n",
    "    local_path=\"data/acces_libre.csv\",\n",
    "    url=\"https://www.data.gouv.fr/fr/datasets/accessibilite-des-etablissements-recevant-du-public-erp-pour-les-personnes-en-situation-de-handicap/#/resources/5b0f44f2-e6ea-4a58-874d-6fe364b40342\"\n",
    ")\n",
    "\n",
    "download_data(\n",
    "    local_path=\"data/classement_hotels.csv\",\n",
    "    url=\"https://minio.lab.sspcloud.fr/inesh/hackathon-tourisme/export%20hotels.csv\"\n",
    ")\n",
    "\n",
    "\n",
    "download_data(\n",
    "    local_path=\"data/classement_residences_camping.csv\",\n",
    "    url=\"https://minio.lab.sspcloud.fr/inesh/hackathon-tourisme/export%20residences,%20campings,%20PRL,%20Auberges,%20villages%20de%20vacance.csv\"\n",
    ")\n"
   ]
  },
  {
   "cell_type": "code",
   "execution_count": 32,
   "id": "f7d64d39-ca74-41e3-92da-1370375178e8",
   "metadata": {},
   "outputs": [],
   "source": [
    "data_acces_libre = pd.read_csv(\n",
    "    \"data/acces_libre.csv\",\n",
    "    sep=\",\",\n",
    "    quotechar='\"',\n",
    "    on_bad_lines=\"skip\",\n",
    "    encoding=\"ISO-8859-1\",\n",
    "    low_memory=False  # Désactive le mode mémoire réduite\n",
    ")"
   ]
  },
  {
   "cell_type": "code",
   "execution_count": 26,
   "id": "d31c32f1-dfdd-4a62-b228-d5afa2ba03a5",
   "metadata": {},
   "outputs": [],
   "source": [
    "data_classement_hotels = pd.read_csv(\n",
    "    \"data/classement_hotels.csv\",\n",
    "    sep=\",\",\n",
    "    quotechar='\"',  # Gère les champs entourés de guillemets\n",
    "    on_bad_lines=\"skip\",  # Ignore les lignes problématiques\n",
    "    encoding=\"ISO-8859-1\"  # Utilise un encodage alternatif\n",
    ")"
   ]
  },
  {
   "cell_type": "code",
   "execution_count": 27,
   "id": "5dd265ab-5747-4411-ae3a-b135ea0647ff",
   "metadata": {},
   "outputs": [],
   "source": [
    "data_classement_residences_camping = pd.read_csv(\n",
    "    \"data/classement_residences_camping.csv\",\n",
    "    sep=\",\",\n",
    "    quotechar='\"',  # Gère les champs entourés de guillemets\n",
    "    on_bad_lines=\"skip\",  # Ignore les lignes problématiques\n",
    "    encoding=\"ISO-8859-1\"  # Utilise un encodage alternatif\n",
    ")"
   ]
  },
  {
   "cell_type": "code",
   "execution_count": 33,
   "id": "d9a268f1-284c-46c7-aceb-09e9641a6e4b",
   "metadata": {},
   "outputs": [
    {
     "name": "stdout",
     "output_type": "stream",
     "text": [
      "                                     id  \\\n",
      "0  e6db2f76-d4d3-4732-b409-a3ad014482c9   \n",
      "1  c5afca82-aff0-4680-a270-914a2ea4c727   \n",
      "2  868bb89a-04c4-4bab-9ede-086c38ee9c22   \n",
      "3  538a3dbd-bbf5-423d-8958-7701c032f02d   \n",
      "4  c7d781c0-12cf-4d66-aeef-571d8d4efd4f   \n",
      "\n",
      "                                                name  postal_code  \\\n",
      "0   007 agent i - Agence immobiliÃ¨re Ã  MontmÃ©lian        73800   \n",
      "1  007 James Bond maison pour tous y compris hand...        24140   \n",
      "2                   017 Home Concept (Concept Store)        57500   \n",
      "3                                           0 5 Sens        81500   \n",
      "4                                          0'mok@bar        75018   \n",
      "\n",
      "       commune numero                       voie lieu_dit code_insee  siret  \\\n",
      "0  MontmÃ©lian     12           Avenue de savoie      NaN      73171    NaN   \n",
      "1     Queyssac    136        Impasse des Hameaux      NaN      24345    NaN   \n",
      "2  Saint-Avold     17  Rue du President Poincare      NaN        NaN    NaN   \n",
      "3       Lavaur      3          Rue des Goutisses      NaN      81140    NaN   \n",
      "4        Paris     43         Rue de la Chapelle      NaN      75118    NaN   \n",
      "\n",
      "                        activite  ... accueil_chambre_accompagnement  \\\n",
      "0            Agence immobiliÃ¨re  ...                            NaN   \n",
      "1                         HÃ´tel  ...                            NaN   \n",
      "2                     VÃªtements  ...                            NaN   \n",
      "3  Soins de beautÃ©, esthÃ©tique  ...                            NaN   \n",
      "4          CafÃ©, bar, brasserie  ...                            NaN   \n",
      "\n",
      "  accueil_retrecissement  sanitaires_presence  sanitaires_adaptes labels  \\\n",
      "0                    NaN                  NaN                 NaN    NaN   \n",
      "1                    NaN                  NaN                 NaN    NaN   \n",
      "2                  False                False                 NaN    NaN   \n",
      "3                    NaN                 True                True    NaN   \n",
      "4                    NaN                 True                 NaN    NaN   \n",
      "\n",
      "  labels_familles_handicap registre_url conformite  \\\n",
      "0                      NaN          NaN        NaN   \n",
      "1                      NaN          NaN        NaN   \n",
      "2                      NaN          NaN        NaN   \n",
      "3                      NaN          NaN        NaN   \n",
      "4                      NaN          NaN        NaN   \n",
      "\n",
      "                                             web_url  \\\n",
      "0  https://acceslibre.beta.gouv.fr/app/73-montmel...   \n",
      "1  https://acceslibre.beta.gouv.fr/app/24-queyssa...   \n",
      "2  https://acceslibre.beta.gouv.fr/app/57-saint-a...   \n",
      "3  https://acceslibre.beta.gouv.fr/app/81-lavaur/...   \n",
      "4  https://acceslibre.beta.gouv.fr/app/75-paris/a...   \n",
      "\n",
      "  accueil_audiodescription_cleaned  \n",
      "0                              NaN  \n",
      "1                              NaN  \n",
      "2                              NaN  \n",
      "3                              NaN  \n",
      "4                              NaN  \n",
      "\n",
      "[5 rows x 84 columns]\n"
     ]
    }
   ],
   "source": [
    "# Afficher un aperçu des données\n",
    "print(data_acces_libre.head())"
   ]
  },
  {
   "cell_type": "code",
   "execution_count": null,
   "id": "73802b55-062c-47ad-a213-92f78308823d",
   "metadata": {},
   "outputs": [],
   "source": [
    "print(data_classement_hotels.head())\n",
    "print(data_classement_residences_camping.head())"
   ]
  },
  {
   "cell_type": "code",
   "execution_count": 22,
   "id": "9c7cda06-9535-4d80-9786-a49226276488",
   "metadata": {
    "scrolled": true
   },
   "outputs": [
    {
     "name": "stdout",
     "output_type": "stream",
     "text": [
      "['id,name,postal_code,commune,numero,voie,lieu_dit,code_insee,siret,activite,contact_url,site_internet,longitude,latitude,transport_station_presence,stationnement_presence,stationnement_pmr,stationnement_ext_presence,stationnement_ext_pmr,cheminement_ext_presence,cheminement_ext_terrain_stable,cheminement_ext_plain_pied,cheminement_ext_ascenseur,cheminement_ext_nombre_marches,cheminement_ext_reperage_marches,cheminement_ext_sens_marches,cheminement_ext_main_courante,cheminement_ext_rampe,cheminement_ext_pente_presence,cheminement_ext_pente_degre_difficulte,cheminement_ext_pente_longueur,cheminement_ext_devers,cheminement_ext_bande_guidage,cheminement_ext_retrecissement,entree_reperage,entree_vitree,entree_vitree_vitrophanie,entree_plain_pied,entree_ascenseur,entree_marches,entree_marches_reperage,entree_marches_main_courante,entree_marches_rampe,entree_marches_sens,entree_dispositif_appel,entree_dispositif_appel_type,entree_balise_sonore,entree_aide_humaine,entree_largeur_mini,entree_pmr,entree_porte_presence,entree_porte_manoeuvre,entree_porte_type,accueil_visibilite,accueil_personnels,accueil_audiodescription_presence,accueil_audiodescription,accueil_equipements_malentendants_presence,accueil_equipements_malentendants,accueil_cheminement_plain_pied,accueil_cheminement_ascenseur,accueil_cheminement_nombre_marches,accueil_cheminement_reperage_marches,accueil_cheminement_main_courante,accueil_cheminement_rampe,accueil_cheminement_sens_marches,accueil_chambre_nombre_accessibles,accueil_chambre_douche_plain_pied,accueil_chambre_douche_siege,accueil_chambre_douche_barre_appui,accueil_chambre_sanitaires_barre_appui,accueil_chambre_sanitaires_espace_usage,accueil_chambre_numero_visible,accueil_chambre_equipement_alerte,accueil_chambre_accompagnement,accueil_retrecissement,sanitaires_presence,sanitaires_adaptes,labels,labels_familles_handicap,registre_url,conformite,web_url']\n"
     ]
    }
   ],
   "source": [
    "# Afficher les noms des colonnes\n",
    "columns = data_acces_libre.columns.tolist()\n",
    "print(columns)"
   ]
  },
  {
   "cell_type": "code",
   "execution_count": null,
   "id": "68249272-b804-4ccd-88a4-ae0022ffd26a",
   "metadata": {},
   "outputs": [],
   "source": [
    "columns = data_classement_hotels.columns.tolist()\n",
    "print(columns)\n",
    "\n"
   ]
  },
  {
   "cell_type": "code",
   "execution_count": 11,
   "id": "a6eced5b-ea07-47bf-9bba-200b12064e84",
   "metadata": {},
   "outputs": [
    {
     "name": "stdout",
     "output_type": "stream",
     "text": [
      "['Etablissement - Identifiant public', 'Etablissement - Nom commercial', 'Etablissement - Adresse - Code postal', 'Etablissement - Adresse - Département', 'Etablissement - Adresse - Ligne 1', 'Etablissement - Adresse - Ligne 2', 'Etablissement - Adresse - Ligne 3', 'Etablissement - Adresse - Région', 'Etablissement - Adresse - Ville', 'batiment_principal_nb_etage', 'nb_chambre_1personne', 'nb_chambre_2personnes', 'nb_chambre_3personnes', 'nb_chambre_4personnes', 'nb_chambre_5personnes', 'nb_chambre_6personnes', 'nb_chambre_7personnes', 'nb_chambre_8personnes', 'presence_batiment_annexe', \"Capacité d'accueil maximum\", 'Hôtels - Nombre de chambres', 'Hôtels - Nombre de chambres accessibles', \"Nombre d'employés\", 'Classement actuel', 'Classement précédent', 'Date de caducité prévisionnelle', \"Date de l'arrêté (ou décision) classement actuel de l'établissement\", 'Etablissement permanent / saisonnier', 'Etablissement - Marques']\n"
     ]
    }
   ],
   "source": [
    "columns = data_classement_residences_camping.columns.tolist()\n",
    "print(columns)\n",
    "\n",
    "columns = data_classement_hotels.columns.tolist()\n",
    "print(columns)"
   ]
  },
  {
   "cell_type": "code",
   "execution_count": 49,
   "id": "92cad973-38b3-49b1-92da-ec7073ebc357",
   "metadata": {},
   "outputs": [],
   "source": [
    "# Convertir data frame en geopanda\n",
    "geodata_acces_libre = gpd.GeoDataFrame(\n",
    "    data_acces_libre, geometry=gpd.points_from_xy(data_acces_libre.longitude, data_acces_libre.latitude),\n",
    "    crs=\"EPSG:4326\"\n",
    ")\n"
   ]
  },
  {
   "cell_type": "code",
   "execution_count": null,
   "id": "074cd37d-c10a-4c02-9d95-f044c615af7a",
   "metadata": {},
   "outputs": [],
   "source": [
    "df.to_json(path_or_buf=None, orient=None, lines=False, force_ascii=True, indent=None)"
   ]
  },
  {
   "cell_type": "code",
   "execution_count": 48,
   "id": "296a61a5-c089-43c9-8a23-ed8c4d1c1702",
   "metadata": {},
   "outputs": [
    {
     "ename": "AttributeError",
     "evalue": "'DataFrame' object has no attribute 'to_file'",
     "output_type": "error",
     "traceback": [
      "\u001b[0;31m---------------------------------------------------------------------------\u001b[0m",
      "\u001b[0;31mAttributeError\u001b[0m                            Traceback (most recent call last)",
      "\u001b[0;32m/tmp/ipykernel_2121/2984631403.py\u001b[0m in \u001b[0;36m?\u001b[0;34m()\u001b[0m\n\u001b[0;32m----> 1\u001b[0;31m \u001b[0mdata_classement_hotels\u001b[0m\u001b[0;34m.\u001b[0m\u001b[0mto_file\u001b[0m\u001b[0;34m(\u001b[0m\u001b[0;34m\"/home/onyxia/work/Hackathon_Accessibilite/data/data_classement_hotels.json\"\u001b[0m\u001b[0;34m,\u001b[0m \u001b[0mdriver\u001b[0m \u001b[0;34m=\u001b[0m \u001b[0;34m\"JSON\"\u001b[0m\u001b[0;34m)\u001b[0m\u001b[0;34m\u001b[0m\u001b[0;34m\u001b[0m\u001b[0m\n\u001b[0m",
      "\u001b[0;32m/opt/conda/lib/python3.12/site-packages/pandas/core/generic.py\u001b[0m in \u001b[0;36m?\u001b[0;34m(self, name)\u001b[0m\n\u001b[1;32m   6295\u001b[0m             \u001b[0;32mand\u001b[0m \u001b[0mname\u001b[0m \u001b[0;32mnot\u001b[0m \u001b[0;32min\u001b[0m \u001b[0mself\u001b[0m\u001b[0;34m.\u001b[0m\u001b[0m_accessors\u001b[0m\u001b[0;34m\u001b[0m\u001b[0;34m\u001b[0m\u001b[0m\n\u001b[1;32m   6296\u001b[0m             \u001b[0;32mand\u001b[0m \u001b[0mself\u001b[0m\u001b[0;34m.\u001b[0m\u001b[0m_info_axis\u001b[0m\u001b[0;34m.\u001b[0m\u001b[0m_can_hold_identifiers_and_holds_name\u001b[0m\u001b[0;34m(\u001b[0m\u001b[0mname\u001b[0m\u001b[0;34m)\u001b[0m\u001b[0;34m\u001b[0m\u001b[0;34m\u001b[0m\u001b[0m\n\u001b[1;32m   6297\u001b[0m         \u001b[0;34m)\u001b[0m\u001b[0;34m:\u001b[0m\u001b[0;34m\u001b[0m\u001b[0;34m\u001b[0m\u001b[0m\n\u001b[1;32m   6298\u001b[0m             \u001b[0;32mreturn\u001b[0m \u001b[0mself\u001b[0m\u001b[0;34m[\u001b[0m\u001b[0mname\u001b[0m\u001b[0;34m]\u001b[0m\u001b[0;34m\u001b[0m\u001b[0;34m\u001b[0m\u001b[0m\n\u001b[0;32m-> 6299\u001b[0;31m         \u001b[0;32mreturn\u001b[0m \u001b[0mobject\u001b[0m\u001b[0;34m.\u001b[0m\u001b[0m__getattribute__\u001b[0m\u001b[0;34m(\u001b[0m\u001b[0mself\u001b[0m\u001b[0;34m,\u001b[0m \u001b[0mname\u001b[0m\u001b[0;34m)\u001b[0m\u001b[0;34m\u001b[0m\u001b[0;34m\u001b[0m\u001b[0m\n\u001b[0m",
      "\u001b[0;31mAttributeError\u001b[0m: 'DataFrame' object has no attribute 'to_file'"
     ]
    }
   ],
   "source": [
    "data_classement_hotels.to_file(\"/home/onyxia/work/Hackathon_Accessibilite/data/data_classement_hotels.json\", driver = \"JSON\")"
   ]
  },
  {
   "cell_type": "code",
   "execution_count": 51,
   "id": "e2b5b1c1-4c7b-41fb-9103-0a84612b5bfa",
   "metadata": {},
   "outputs": [
    {
     "ename": "AttributeError",
     "evalue": "'DataFrame' object has no attribute 'to_file'",
     "output_type": "error",
     "traceback": [
      "\u001b[0;31m---------------------------------------------------------------------------\u001b[0m",
      "\u001b[0;31mAttributeError\u001b[0m                            Traceback (most recent call last)",
      "\u001b[0;32m/tmp/ipykernel_2121/1724999665.py\u001b[0m in \u001b[0;36m?\u001b[0;34m()\u001b[0m\n\u001b[1;32m      1\u001b[0m \u001b[0;31m# Convertir en GeoJSON\u001b[0m\u001b[0;34m\u001b[0m\u001b[0;34m\u001b[0m\u001b[0m\n\u001b[0;32m----> 2\u001b[0;31m \u001b[0mdata_classement_hotels\u001b[0m\u001b[0;34m.\u001b[0m\u001b[0mto_file\u001b[0m\u001b[0;34m(\u001b[0m\u001b[0;34m\"/home/onyxia/work/Hackathon_Accessibilite/data/geodata_classement_hotels.json\"\u001b[0m\u001b[0;34m,\u001b[0m \u001b[0mdriver\u001b[0m \u001b[0;34m=\u001b[0m \u001b[0;34m\"JSON\"\u001b[0m\u001b[0;34m)\u001b[0m\u001b[0;34m\u001b[0m\u001b[0;34m\u001b[0m\u001b[0m\n\u001b[0m",
      "\u001b[0;32m/opt/conda/lib/python3.12/site-packages/pandas/core/generic.py\u001b[0m in \u001b[0;36m?\u001b[0;34m(self, name)\u001b[0m\n\u001b[1;32m   6295\u001b[0m             \u001b[0;32mand\u001b[0m \u001b[0mname\u001b[0m \u001b[0;32mnot\u001b[0m \u001b[0;32min\u001b[0m \u001b[0mself\u001b[0m\u001b[0;34m.\u001b[0m\u001b[0m_accessors\u001b[0m\u001b[0;34m\u001b[0m\u001b[0;34m\u001b[0m\u001b[0m\n\u001b[1;32m   6296\u001b[0m             \u001b[0;32mand\u001b[0m \u001b[0mself\u001b[0m\u001b[0;34m.\u001b[0m\u001b[0m_info_axis\u001b[0m\u001b[0;34m.\u001b[0m\u001b[0m_can_hold_identifiers_and_holds_name\u001b[0m\u001b[0;34m(\u001b[0m\u001b[0mname\u001b[0m\u001b[0;34m)\u001b[0m\u001b[0;34m\u001b[0m\u001b[0;34m\u001b[0m\u001b[0m\n\u001b[1;32m   6297\u001b[0m         \u001b[0;34m)\u001b[0m\u001b[0;34m:\u001b[0m\u001b[0;34m\u001b[0m\u001b[0;34m\u001b[0m\u001b[0m\n\u001b[1;32m   6298\u001b[0m             \u001b[0;32mreturn\u001b[0m \u001b[0mself\u001b[0m\u001b[0;34m[\u001b[0m\u001b[0mname\u001b[0m\u001b[0;34m]\u001b[0m\u001b[0;34m\u001b[0m\u001b[0;34m\u001b[0m\u001b[0m\n\u001b[0;32m-> 6299\u001b[0;31m         \u001b[0;32mreturn\u001b[0m \u001b[0mobject\u001b[0m\u001b[0;34m.\u001b[0m\u001b[0m__getattribute__\u001b[0m\u001b[0;34m(\u001b[0m\u001b[0mself\u001b[0m\u001b[0;34m,\u001b[0m \u001b[0mname\u001b[0m\u001b[0;34m)\u001b[0m\u001b[0;34m\u001b[0m\u001b[0;34m\u001b[0m\u001b[0m\n\u001b[0m",
      "\u001b[0;31mAttributeError\u001b[0m: 'DataFrame' object has no attribute 'to_file'"
     ]
    }
   ],
   "source": [
    "# Convertir en JSON\n",
    "data_classement_hotels.to_file(\"/home/onyxia/work/Hackathon_Accessibilite/data/geodata_classement_hotels.json\", driver = \"JSON\")\n"
   ]
  },
  {
   "cell_type": "code",
   "execution_count": 45,
   "id": "dc03f610-2747-4db1-a968-17a372f6296c",
   "metadata": {},
   "outputs": [],
   "source": [
    "# Sauvegarder sous s3\n",
    "gdf.to_file(\"s3://mhillion/diffusion/Hackathon_Accessibilite/data/data_acces_libre.geojson\", driver = \"GeoJSON\")"
   ]
  },
  {
   "cell_type": "code",
   "execution_count": 37,
   "id": "585fd2da-4152-4e45-bab4-be1a065cc3bc",
   "metadata": {},
   "outputs": [
    {
     "name": "stdout",
     "output_type": "stream",
     "text": [
      "                                               Valeur  Fréquence\n",
      "0                                                 NaN     525548\n",
      "1                  [\"avec_\\u00e9quipement_permanent\"]        217\n",
      "2                [\"avec_\\u00e9quipement_occasionnel\"]        118\n",
      "3                                        [\"avec_app\"]         95\n",
      "4                            [\"sans_\\u00e9quipement\"]         55\n",
      "5      [\"avec_\\u00e9quipement_permanent\", \"avec_app\"]         13\n",
      "6   [\"avec_\\u00e9quipement_permanent\", \"avec_\\u00e...         13\n",
      "7    [\"avec_app\", \"avec_\\u00e9quipement_occasionnel\"]          9\n",
      "8   [\"avec_\\u00e9quipement_permanent\", \"avec_app\",...          7\n",
      "9   [\"avec_\\u00e9quipement_permanent\", \"avec_app\",...          6\n",
      "10  [\"avec_\\u00e9quipement_permanent\", \"sans_\\u00e...          4\n",
      "11  [\"avec_\\u00e9quipement_permanent\", \"avec_\\u00e...          2\n",
      "12  [\"avec_\\u00e9quipement_occasionnel\", \"sans_\\u0...          2\n",
      "13     [\"avec_app\", \"avec_\\u00e9quipement_permanent\"]          2\n",
      "14  [\"avec_\\u00e9quipement_permanent\", \"sans_\\u00e...          1\n",
      "15               [\"avec_app\", \"sans_\\u00e9quipement\"]          1\n",
      "16  [\"sans_\\u00e9quipement\", \"avec_\\u00e9quipement...          1\n"
     ]
    }
   ],
   "source": [
    "# Afficher les valeurs de \"sanitaire adapté\" dans la source data_acces_libre\n",
    "\n",
    "# Afficher la liste des valeurs et leur fréquence\n",
    "frequences = data_acces_libre['accueil_audiodescription'].value_counts(dropna=False)\n",
    "\n",
    "# Convertir en DataFrame pour un affichage plus clair\n",
    "frequences_df = frequences.reset_index()\n",
    "frequences_df.columns = ['Valeur', 'Fréquence']\n",
    "\n",
    "# Afficher le tableau\n",
    "print(frequences_df)"
   ]
  },
  {
   "cell_type": "code",
   "execution_count": 38,
   "id": "10874e21-7419-49a3-b27e-5052e6dfc8bd",
   "metadata": {},
   "outputs": [
    {
     "ename": "KeyError",
     "evalue": "'Hôtels - Nombre de chambres accessibles'",
     "output_type": "error",
     "traceback": [
      "\u001b[0;31m---------------------------------------------------------------------------\u001b[0m",
      "\u001b[0;31mKeyError\u001b[0m                                  Traceback (most recent call last)",
      "File \u001b[0;32m/opt/conda/lib/python3.12/site-packages/pandas/core/indexes/base.py:3805\u001b[0m, in \u001b[0;36mIndex.get_loc\u001b[0;34m(self, key)\u001b[0m\n\u001b[1;32m   3804\u001b[0m \u001b[38;5;28;01mtry\u001b[39;00m:\n\u001b[0;32m-> 3805\u001b[0m     \u001b[38;5;28;01mreturn\u001b[39;00m \u001b[38;5;28;43mself\u001b[39;49m\u001b[38;5;241;43m.\u001b[39;49m\u001b[43m_engine\u001b[49m\u001b[38;5;241;43m.\u001b[39;49m\u001b[43mget_loc\u001b[49m\u001b[43m(\u001b[49m\u001b[43mcasted_key\u001b[49m\u001b[43m)\u001b[49m\n\u001b[1;32m   3806\u001b[0m \u001b[38;5;28;01mexcept\u001b[39;00m \u001b[38;5;167;01mKeyError\u001b[39;00m \u001b[38;5;28;01mas\u001b[39;00m err:\n",
      "File \u001b[0;32mindex.pyx:167\u001b[0m, in \u001b[0;36mpandas._libs.index.IndexEngine.get_loc\u001b[0;34m()\u001b[0m\n",
      "File \u001b[0;32mindex.pyx:196\u001b[0m, in \u001b[0;36mpandas._libs.index.IndexEngine.get_loc\u001b[0;34m()\u001b[0m\n",
      "File \u001b[0;32mpandas/_libs/hashtable_class_helper.pxi:7081\u001b[0m, in \u001b[0;36mpandas._libs.hashtable.PyObjectHashTable.get_item\u001b[0;34m()\u001b[0m\n",
      "File \u001b[0;32mpandas/_libs/hashtable_class_helper.pxi:7089\u001b[0m, in \u001b[0;36mpandas._libs.hashtable.PyObjectHashTable.get_item\u001b[0;34m()\u001b[0m\n",
      "\u001b[0;31mKeyError\u001b[0m: 'Hôtels - Nombre de chambres accessibles'",
      "\nThe above exception was the direct cause of the following exception:\n",
      "\u001b[0;31mKeyError\u001b[0m                                  Traceback (most recent call last)",
      "Cell \u001b[0;32mIn[38], line 4\u001b[0m\n\u001b[1;32m      1\u001b[0m \u001b[38;5;66;03m# Afficher les valeurs de \"Hôtels - Nombre de chambres accessibles\" dans la source data_classement_hotels\u001b[39;00m\n\u001b[1;32m      2\u001b[0m \n\u001b[1;32m      3\u001b[0m \u001b[38;5;66;03m# Afficher la liste des valeurs et leur fréquence\u001b[39;00m\n\u001b[0;32m----> 4\u001b[0m frequences \u001b[38;5;241m=\u001b[39m \u001b[43mdata_classement_hotels\u001b[49m\u001b[43m[\u001b[49m\u001b[38;5;124;43m'\u001b[39;49m\u001b[38;5;124;43mHôtels - Nombre de chambres accessibles\u001b[39;49m\u001b[38;5;124;43m'\u001b[39;49m\u001b[43m]\u001b[49m\u001b[38;5;241m.\u001b[39mvalue_counts(dropna\u001b[38;5;241m=\u001b[39m\u001b[38;5;28;01mFalse\u001b[39;00m)\n\u001b[1;32m      6\u001b[0m \u001b[38;5;66;03m# Convertir en DataFrame pour un affichage plus clair\u001b[39;00m\n\u001b[1;32m      7\u001b[0m frequences_df \u001b[38;5;241m=\u001b[39m frequences\u001b[38;5;241m.\u001b[39mreset_index()\n",
      "File \u001b[0;32m/opt/conda/lib/python3.12/site-packages/pandas/core/frame.py:4102\u001b[0m, in \u001b[0;36mDataFrame.__getitem__\u001b[0;34m(self, key)\u001b[0m\n\u001b[1;32m   4100\u001b[0m \u001b[38;5;28;01mif\u001b[39;00m \u001b[38;5;28mself\u001b[39m\u001b[38;5;241m.\u001b[39mcolumns\u001b[38;5;241m.\u001b[39mnlevels \u001b[38;5;241m>\u001b[39m \u001b[38;5;241m1\u001b[39m:\n\u001b[1;32m   4101\u001b[0m     \u001b[38;5;28;01mreturn\u001b[39;00m \u001b[38;5;28mself\u001b[39m\u001b[38;5;241m.\u001b[39m_getitem_multilevel(key)\n\u001b[0;32m-> 4102\u001b[0m indexer \u001b[38;5;241m=\u001b[39m \u001b[38;5;28;43mself\u001b[39;49m\u001b[38;5;241;43m.\u001b[39;49m\u001b[43mcolumns\u001b[49m\u001b[38;5;241;43m.\u001b[39;49m\u001b[43mget_loc\u001b[49m\u001b[43m(\u001b[49m\u001b[43mkey\u001b[49m\u001b[43m)\u001b[49m\n\u001b[1;32m   4103\u001b[0m \u001b[38;5;28;01mif\u001b[39;00m is_integer(indexer):\n\u001b[1;32m   4104\u001b[0m     indexer \u001b[38;5;241m=\u001b[39m [indexer]\n",
      "File \u001b[0;32m/opt/conda/lib/python3.12/site-packages/pandas/core/indexes/base.py:3812\u001b[0m, in \u001b[0;36mIndex.get_loc\u001b[0;34m(self, key)\u001b[0m\n\u001b[1;32m   3807\u001b[0m     \u001b[38;5;28;01mif\u001b[39;00m \u001b[38;5;28misinstance\u001b[39m(casted_key, \u001b[38;5;28mslice\u001b[39m) \u001b[38;5;129;01mor\u001b[39;00m (\n\u001b[1;32m   3808\u001b[0m         \u001b[38;5;28misinstance\u001b[39m(casted_key, abc\u001b[38;5;241m.\u001b[39mIterable)\n\u001b[1;32m   3809\u001b[0m         \u001b[38;5;129;01mand\u001b[39;00m \u001b[38;5;28many\u001b[39m(\u001b[38;5;28misinstance\u001b[39m(x, \u001b[38;5;28mslice\u001b[39m) \u001b[38;5;28;01mfor\u001b[39;00m x \u001b[38;5;129;01min\u001b[39;00m casted_key)\n\u001b[1;32m   3810\u001b[0m     ):\n\u001b[1;32m   3811\u001b[0m         \u001b[38;5;28;01mraise\u001b[39;00m InvalidIndexError(key)\n\u001b[0;32m-> 3812\u001b[0m     \u001b[38;5;28;01mraise\u001b[39;00m \u001b[38;5;167;01mKeyError\u001b[39;00m(key) \u001b[38;5;28;01mfrom\u001b[39;00m \u001b[38;5;21;01merr\u001b[39;00m\n\u001b[1;32m   3813\u001b[0m \u001b[38;5;28;01mexcept\u001b[39;00m \u001b[38;5;167;01mTypeError\u001b[39;00m:\n\u001b[1;32m   3814\u001b[0m     \u001b[38;5;66;03m# If we have a listlike key, _check_indexing_error will raise\u001b[39;00m\n\u001b[1;32m   3815\u001b[0m     \u001b[38;5;66;03m#  InvalidIndexError. Otherwise we fall through and re-raise\u001b[39;00m\n\u001b[1;32m   3816\u001b[0m     \u001b[38;5;66;03m#  the TypeError.\u001b[39;00m\n\u001b[1;32m   3817\u001b[0m     \u001b[38;5;28mself\u001b[39m\u001b[38;5;241m.\u001b[39m_check_indexing_error(key)\n",
      "\u001b[0;31mKeyError\u001b[0m: 'Hôtels - Nombre de chambres accessibles'"
     ]
    }
   ],
   "source": [
    "# Afficher les valeurs de \"Hôtels - Nombre de chambres accessibles\" dans la source data_classement_hotels\n",
    "\n",
    "# Afficher la liste des valeurs et leur fréquence\n",
    "frequences = data_classement_hotels['Hôtels - Nombre de chambres accessibles'].value_counts(dropna=False)\n",
    "\n",
    "# Convertir en DataFrame pour un affichage plus clair\n",
    "frequences_df = frequences.reset_index()\n",
    "frequences_df.columns = ['Valeur', 'Fréquence']\n",
    "\n",
    "# Afficher le tableau\n",
    "print(frequences_df)"
   ]
  },
  {
   "cell_type": "code",
   "execution_count": null,
   "id": "2be07688-2235-45f3-aef3-fdaea140c331",
   "metadata": {},
   "outputs": [],
   "source": []
  }
 ],
 "metadata": {
  "kernelspec": {
   "display_name": "Python 3 (ipykernel)",
   "language": "python",
   "name": "python3"
  },
  "language_info": {
   "codemirror_mode": {
    "name": "ipython",
    "version": 3
   },
   "file_extension": ".py",
   "mimetype": "text/x-python",
   "name": "python",
   "nbconvert_exporter": "python",
   "pygments_lexer": "ipython3",
   "version": "3.12.7"
  }
 },
 "nbformat": 4,
 "nbformat_minor": 5
}
