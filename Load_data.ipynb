{
 "cells": [
  {
   "cell_type": "code",
   "execution_count": 2,
   "id": "5b8a31dc-56da-4330-84d9-56a68342f20c",
   "metadata": {},
   "outputs": [],
   "source": [
    "# Import libraries\n",
    "import os\n",
    "import requests\n",
    "import boto3\n",
    "from botocore.exceptions import NoCredentialsError\n",
    "import pyarrow.parquet as pq\n",
    "import pandas as pd\n",
    "from tqdm import tqdm"
   ]
  },
  {
   "cell_type": "code",
   "execution_count": 3,
   "id": "9c0b0693-20d7-48b7-952c-45be52a28eec",
   "metadata": {},
   "outputs": [],
   "source": [
    "# Fonction de téléchargement des données depuis S3 ou une URL avec barre de progression\n",
    "def download_data(local_path, url=None, s3_path=None, bucket=None, endpoint=None):\n",
    "    \"\"\"\n",
    "    Télécharge un fichier depuis S3 ou une URL et le sauvegarde localement.\n",
    "    \"\"\"\n",
    "    # Créer le dossier si nécessaire\n",
    "    dir_path = os.path.dirname(local_path)\n",
    "    if not os.path.exists(dir_path):\n",
    "        os.makedirs(dir_path)\n",
    "    \n",
    "    # Vérifier si le fichier existe déjà\n",
    "    if os.path.exists(local_path):\n",
    "        print(f\"Les données sont déjà téléchargées : {local_path}\")\n",
    "        return\n",
    "\n",
    "    # Télécharger depuis S3\n",
    "    if s3_path and bucket and endpoint:\n",
    "        print(\"Téléchargement depuis le bucket S3...\")\n",
    "        try:\n",
    "            s3 = boto3.client('s3', endpoint_url=endpoint)\n",
    "            s3.download_file(bucket, s3_path, local_path)\n",
    "            print(f\"Téléchargement effectué avec succès depuis S3 : {local_path}\")\n",
    "        except NoCredentialsError as e:\n",
    "            print(f\"Erreur d'authentification S3 : {e}\")\n",
    "        except Exception as e:\n",
    "            print(f\"Erreur lors du téléchargement depuis S3 : {e}\")\n",
    "            return\n",
    "\n",
    "    # Télécharger depuis une URL\n",
    "    elif url:\n",
    "        print(\"Téléchargement depuis l'URL...\")\n",
    "        try:\n",
    "            response = requests.get(url, stream=True)\n",
    "            response.raise_for_status()\n",
    "            \n",
    "            # Barre de progression\n",
    "            total_size = int(response.headers.get('content-length', 0))\n",
    "            with open(local_path, 'wb') as f, tqdm(\n",
    "                desc=f\"Téléchargement {os.path.basename(local_path)}\",\n",
    "                total=total_size,\n",
    "                unit='B',\n",
    "                unit_scale=True,\n",
    "                unit_divisor=1024,\n",
    "            ) as bar:\n",
    "                for data in response.iter_content(chunk_size=1024):\n",
    "                    f.write(data)\n",
    "                    bar.update(len(data))\n",
    "            print(f\"Téléchargement effectué avec succès : {local_path}\")\n",
    "        except requests.RequestException as e:\n",
    "            print(f\"Erreur lors du téléchargement depuis l'URL : {e}\")\n",
    "            return\n",
    "\n",
    "    else:\n",
    "        print(\"Ni URL, ni chemin S3 spécifié. Impossible de télécharger les données.\")\n",
    "        return\n",
    "\n",
    "# Fonction pour lire les fichiers Parquet\n",
    "def read_parquet_data(local_path):\n",
    "    if os.path.exists(local_path):\n",
    "        try:\n",
    "            data = pq.read_table(local_path).to_pandas()\n",
    "            print(f\"Données Parquet chargées avec succès depuis : {local_path}\")\n",
    "            return data\n",
    "        except Exception as e:\n",
    "            print(f\"Erreur lors de la lecture du fichier Parquet : {e}\")\n",
    "    else:\n",
    "        print(f\"Le fichier n'existe pas : {local_path}\")\n",
    "    return None\n",
    "\n",
    "# Fonction pour lire les fichiers CSV\n",
    "def read_csv_data(local_path):\n",
    "    if os.path.exists(local_path):\n",
    "        try:\n",
    "            data = pd.read_csv(local_path, sep=';')\n",
    "            print(f\"Données CSV chargées avec succès depuis : {local_path}\")\n",
    "            return data\n",
    "        except Exception as e:\n",
    "            print(f\"Erreur lors de la lecture du fichier CSV : {e}\")\n",
    "    else:\n",
    "        print(f\"Le fichier n'existe pas : {local_path}\")\n",
    "    return None"
   ]
  },
  {
   "cell_type": "code",
   "execution_count": 4,
   "id": "ad43a6ca-84a6-4fb9-9eb6-d2cb64787ca2",
   "metadata": {},
   "outputs": [],
   "source": [
    "# Fonction de téléchargement des données depuis S3 ou une URL avec barre de progression\n",
    "def download_data(local_path, url=None, s3_path=None, bucket=None, endpoint=None):\n",
    "    \"\"\"\n",
    "    Télécharge un fichier depuis S3 ou une URL et le sauvegarde localement.\n",
    "    \"\"\"\n",
    "    # Créer le dossier si nécessaire\n",
    "    dir_path = os.path.dirname(local_path)\n",
    "    if not os.path.exists(dir_path):\n",
    "        os.makedirs(dir_path)\n",
    "    \n",
    "    # Vérifier si le fichier existe déjà\n",
    "    if os.path.exists(local_path):\n",
    "        print(f\"Les données sont déjà téléchargées : {local_path}\")\n",
    "        return\n",
    "\n",
    "    # Télécharger depuis S3\n",
    "    if s3_path and bucket and endpoint:\n",
    "        print(\"Téléchargement depuis le bucket S3...\")\n",
    "        try:\n",
    "            s3 = boto3.client('s3', endpoint_url=endpoint)\n",
    "            s3.download_file(bucket, s3_path, local_path)\n",
    "            print(f\"Téléchargement effectué avec succès depuis S3 : {local_path}\")\n",
    "        except NoCredentialsError as e:\n",
    "            print(f\"Erreur d'authentification S3 : {e}\")\n",
    "        except Exception as e:\n",
    "            print(f\"Erreur lors du téléchargement depuis S3 : {e}\")\n",
    "            return\n",
    "\n",
    "    # Télécharger depuis une URL\n",
    "    elif url:\n",
    "        print(\"Téléchargement depuis l'URL...\")\n",
    "        try:\n",
    "            response = requests.get(url, stream=True)\n",
    "            response.raise_for_status()\n",
    "            \n",
    "            # Barre de progression\n",
    "            total_size = int(response.headers.get('content-length', 0))\n",
    "            with open(local_path, 'wb') as f, tqdm(\n",
    "                desc=f\"Téléchargement {os.path.basename(local_path)}\",\n",
    "                total=total_size,\n",
    "                unit='B',\n",
    "                unit_scale=True,\n",
    "                unit_divisor=1024,\n",
    "            ) as bar:\n",
    "                for data in response.iter_content(chunk_size=1024):\n",
    "                    f.write(data)\n",
    "                    bar.update(len(data))\n",
    "            print(f\"Téléchargement effectué avec succès : {local_path}\")\n",
    "        except requests.RequestException as e:\n",
    "            print(f\"Erreur lors du téléchargement depuis l'URL : {e}\")\n",
    "            return\n",
    "\n",
    "    else:\n",
    "        print(\"Ni URL, ni chemin S3 spécifié. Impossible de télécharger les données.\")\n",
    "        return\n",
    "\n",
    "# Fonction pour lire les fichiers Parquet\n",
    "def read_parquet_data(local_path):\n",
    "    if os.path.exists(local_path):\n",
    "        try:\n",
    "            data = pq.read_table(local_path).to_pandas()\n",
    "            print(f\"Données Parquet chargées avec succès depuis : {local_path}\")\n",
    "            return data\n",
    "        except Exception as e:\n",
    "            print(f\"Erreur lors de la lecture du fichier Parquet : {e}\")\n",
    "    else:\n",
    "        print(f\"Le fichier n'existe pas : {local_path}\")\n",
    "    return None\n",
    "\n",
    "# Fonction pour lire les fichiers CSV\n",
    "def read_csv_data(local_path):\n",
    "    if os.path.exists(local_path):\n",
    "        try:\n",
    "            data = pd.read_csv(local_path, sep=';')\n",
    "            print(f\"Données CSV chargées avec succès depuis : {local_path}\")\n",
    "            return data\n",
    "        except Exception as e:\n",
    "            print(f\"Erreur lors de la lecture du fichier CSV : {e}\")\n",
    "    else:\n",
    "        print(f\"Le fichier n'existe pas : {local_path}\")\n",
    "    return None"
   ]
  },
  {
   "cell_type": "code",
   "execution_count": 5,
   "id": "00fa0b3c-04de-482e-ba8a-38436e270fff",
   "metadata": {},
   "outputs": [
    {
     "name": "stdout",
     "output_type": "stream",
     "text": [
      "Nouveau répertoire courant : /home/onyxia/work/Hackathon_Accessibilite\n"
     ]
    }
   ],
   "source": [
    "# Définir le répertoire courant\n",
    "os.chdir('/home/onyxia/work/Hackathon_Accessibilite')\n",
    "\n",
    "# Vérification\n",
    "print(\"Nouveau répertoire courant :\", os.getcwd())"
   ]
  },
  {
   "cell_type": "code",
   "execution_count": 6,
   "id": "de8341b3-0edc-47ea-9196-bd5f76585111",
   "metadata": {},
   "outputs": [
    {
     "name": "stdout",
     "output_type": "stream",
     "text": [
      "Les données sont déjà téléchargées : data/acces_libre.csv\n"
     ]
    }
   ],
   "source": [
    "# Téléchargement des fichiers en local\n",
    "\n",
    "# Depuis une URL\n",
    "download_data(\n",
    "    local_path=\"data/acces_libre.csv\",\n",
    "    url=\"https://www.data.gouv.fr/fr/datasets/accessibilite-des-etablissements-recevant-du-public-erp-pour-les-personnes-en-situation-de-handicap/#/resources/5b0f44f2-e6ea-4a58-874d-6fe364b40342\"\n",
    ")"
   ]
  },
  {
   "cell_type": "code",
   "execution_count": 12,
   "id": "f7d64d39-ca74-41e3-92da-1370375178e8",
   "metadata": {},
   "outputs": [
    {
     "name": "stderr",
     "output_type": "stream",
     "text": [
      "/tmp/ipykernel_1506/3276554650.py:1: DtypeWarning: Columns (56,67,68,69,70,71,72,73,74,79,80) have mixed types. Specify dtype option on import or set low_memory=False.\n",
      "  data_acces_libre = pd.read_csv(\n"
     ]
    }
   ],
   "source": [
    "data_acces_libre = pd.read_csv(\n",
    "    \"data/acces_libre.csv\",\n",
    "    sep=\",\",\n",
    "    quotechar='\"',  # Gère les champs entourés de guillemets\n",
    "    on_bad_lines=\"skip\"  # Ignore les lignes problématiques restantes\n",
    ")"
   ]
  },
  {
   "cell_type": "code",
   "execution_count": 9,
   "id": "d9a268f1-284c-46c7-aceb-09e9641a6e4b",
   "metadata": {},
   "outputs": [
    {
     "name": "stdout",
     "output_type": "stream",
     "text": [
      "                                     id  \\\n",
      "0  e6db2f76-d4d3-4732-b409-a3ad014482c9   \n",
      "1  c5afca82-aff0-4680-a270-914a2ea4c727   \n",
      "2  868bb89a-04c4-4bab-9ede-086c38ee9c22   \n",
      "3  538a3dbd-bbf5-423d-8958-7701c032f02d   \n",
      "4  c7d781c0-12cf-4d66-aeef-571d8d4efd4f   \n",
      "\n",
      "                                                name  postal_code  \\\n",
      "0      007 agent i - Agence immobilière à Montmélian        73800   \n",
      "1  007 James Bond maison pour tous y compris hand...        24140   \n",
      "2                   017 Home Concept (Concept Store)        57500   \n",
      "3                                           0 5 Sens        81500   \n",
      "4                                          0'mok@bar        75018   \n",
      "\n",
      "       commune numero                       voie lieu_dit code_insee  siret  \\\n",
      "0   Montmélian     12           Avenue de savoie      NaN      73171    NaN   \n",
      "1     Queyssac    136        Impasse des Hameaux      NaN      24345    NaN   \n",
      "2  Saint-Avold     17  Rue du President Poincare      NaN        NaN    NaN   \n",
      "3       Lavaur      3          Rue des Goutisses      NaN      81140    NaN   \n",
      "4        Paris     43         Rue de la Chapelle      NaN      75118    NaN   \n",
      "\n",
      "                      activite  ... accueil_chambre_equipement_alerte  \\\n",
      "0           Agence immobilière  ...                               NaN   \n",
      "1                        Hôtel  ...                               NaN   \n",
      "2                    Vêtements  ...                               NaN   \n",
      "3  Soins de beauté, esthétique  ...                               NaN   \n",
      "4         Café, bar, brasserie  ...                               NaN   \n",
      "\n",
      "  accueil_chambre_accompagnement  accueil_retrecissement  sanitaires_presence  \\\n",
      "0                            NaN                     NaN                  NaN   \n",
      "1                            NaN                     NaN                  NaN   \n",
      "2                            NaN                   False                False   \n",
      "3                            NaN                     NaN                 True   \n",
      "4                            NaN                     NaN                 True   \n",
      "\n",
      "  sanitaires_adaptes labels labels_familles_handicap registre_url conformite  \\\n",
      "0                NaN    NaN                      NaN          NaN        NaN   \n",
      "1                NaN    NaN                      NaN          NaN        NaN   \n",
      "2                NaN    NaN                      NaN          NaN        NaN   \n",
      "3               True    NaN                      NaN          NaN        NaN   \n",
      "4                NaN    NaN                      NaN          NaN        NaN   \n",
      "\n",
      "                                             web_url  \n",
      "0  https://acceslibre.beta.gouv.fr/app/73-montmel...  \n",
      "1  https://acceslibre.beta.gouv.fr/app/24-queyssa...  \n",
      "2  https://acceslibre.beta.gouv.fr/app/57-saint-a...  \n",
      "3  https://acceslibre.beta.gouv.fr/app/81-lavaur/...  \n",
      "4  https://acceslibre.beta.gouv.fr/app/75-paris/a...  \n",
      "\n",
      "[5 rows x 83 columns]\n"
     ]
    }
   ],
   "source": [
    "# Afficher un aperçu des données\n",
    "print(data_acces_libre.head())"
   ]
  },
  {
   "cell_type": "code",
   "execution_count": 13,
   "id": "9c7cda06-9535-4d80-9786-a49226276488",
   "metadata": {
    "scrolled": true
   },
   "outputs": [
    {
     "name": "stdout",
     "output_type": "stream",
     "text": [
      "['id', 'name', 'postal_code', 'commune', 'numero', 'voie', 'lieu_dit', 'code_insee', 'siret', 'activite', 'contact_url', 'site_internet', 'longitude', 'latitude', 'transport_station_presence', 'stationnement_presence', 'stationnement_pmr', 'stationnement_ext_presence', 'stationnement_ext_pmr', 'cheminement_ext_presence', 'cheminement_ext_terrain_stable', 'cheminement_ext_plain_pied', 'cheminement_ext_ascenseur', 'cheminement_ext_nombre_marches', 'cheminement_ext_reperage_marches', 'cheminement_ext_sens_marches', 'cheminement_ext_main_courante', 'cheminement_ext_rampe', 'cheminement_ext_pente_presence', 'cheminement_ext_pente_degre_difficulte', 'cheminement_ext_pente_longueur', 'cheminement_ext_devers', 'cheminement_ext_bande_guidage', 'cheminement_ext_retrecissement', 'entree_reperage', 'entree_vitree', 'entree_vitree_vitrophanie', 'entree_plain_pied', 'entree_ascenseur', 'entree_marches', 'entree_marches_reperage', 'entree_marches_main_courante', 'entree_marches_rampe', 'entree_marches_sens', 'entree_dispositif_appel', 'entree_dispositif_appel_type', 'entree_balise_sonore', 'entree_aide_humaine', 'entree_largeur_mini', 'entree_pmr', 'entree_porte_presence', 'entree_porte_manoeuvre', 'entree_porte_type', 'accueil_visibilite', 'accueil_personnels', 'accueil_audiodescription_presence', 'accueil_audiodescription', 'accueil_equipements_malentendants_presence', 'accueil_equipements_malentendants', 'accueil_cheminement_plain_pied', 'accueil_cheminement_ascenseur', 'accueil_cheminement_nombre_marches', 'accueil_cheminement_reperage_marches', 'accueil_cheminement_main_courante', 'accueil_cheminement_rampe', 'accueil_cheminement_sens_marches', 'accueil_chambre_nombre_accessibles', 'accueil_chambre_douche_plain_pied', 'accueil_chambre_douche_siege', 'accueil_chambre_douche_barre_appui', 'accueil_chambre_sanitaires_barre_appui', 'accueil_chambre_sanitaires_espace_usage', 'accueil_chambre_numero_visible', 'accueil_chambre_equipement_alerte', 'accueil_chambre_accompagnement', 'accueil_retrecissement', 'sanitaires_presence', 'sanitaires_adaptes', 'labels', 'labels_familles_handicap', 'registre_url', 'conformite', 'web_url']\n"
     ]
    }
   ],
   "source": [
    "# Afficher les noms des colonnes\n",
    "columns = data_acces_libre.columns.tolist()\n",
    "print(columns)"
   ]
  },
  {
   "cell_type": "code",
   "execution_count": 18,
   "id": "585fd2da-4152-4e45-bab4-be1a065cc3bc",
   "metadata": {},
   "outputs": [
    {
     "name": "stdout",
     "output_type": "stream",
     "text": [
      "  Valeur  Fréquence\n",
      "0    NaN     397614\n",
      "1   True     105355\n",
      "2  False      23125\n"
     ]
    }
   ],
   "source": [
    "# Afficher les valeurs de \"sanitaire adapté\"\n",
    "\n",
    "# Afficher la liste des valeurs et leur fréquence\n",
    "frequences = data_acces_libre['sanitaires_adaptes'].value_counts(dropna=False)\n",
    "\n",
    "# Convertir en DataFrame pour un affichage plus clair\n",
    "frequences_df = frequences.reset_index()\n",
    "frequences_df.columns = ['Valeur', 'Fréquence']\n",
    "\n",
    "# Afficher le tableau\n",
    "print(frequences_df)"
   ]
  }
 ],
 "metadata": {
  "kernelspec": {
   "display_name": "Python 3 (ipykernel)",
   "language": "python",
   "name": "python3"
  },
  "language_info": {
   "codemirror_mode": {
    "name": "ipython",
    "version": 3
   },
   "file_extension": ".py",
   "mimetype": "text/x-python",
   "name": "python",
   "nbconvert_exporter": "python",
   "pygments_lexer": "ipython3",
   "version": "3.12.7"
  }
 },
 "nbformat": 4,
 "nbformat_minor": 5
}
